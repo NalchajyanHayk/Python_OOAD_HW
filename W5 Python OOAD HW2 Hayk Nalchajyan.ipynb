{
 "cells": [
  {
   "cell_type": "markdown",
   "id": "ea7bd7c0",
   "metadata": {},
   "source": [
    "# W5 Python OOAD HW2 Hayk Nalchajyan"
   ]
  },
  {
   "cell_type": "markdown",
   "id": "0fd9f32e",
   "metadata": {},
   "source": [
    "Write a program that performs checking on the entered data, specifically it should check whether the following types of data are entered correctly (Without using regex):\n",
    "\n",
    "Email\n",
    "\n",
    "Website URL\n",
    "\n",
    "Date\n",
    "\n",
    "Number\n",
    "\n",
    "Credit Card Number\n",
    "\n",
    "Mobile Phone Number\n",
    "\n",
    "The program asks the user to choose one of the above mentioned types of data and then enters the data he/she wants to check. For example the user chooses an Email option and then enters wrong@email . The program should check the format of the email and should tell the user that it is not a valid email. This applies to all the types of data."
   ]
  },
  {
   "cell_type": "code",
   "execution_count": 21,
   "id": "f1405586",
   "metadata": {},
   "outputs": [
    {
     "name": "stdout",
     "output_type": "stream",
     "text": [
      "Please choose one of the categories: \n",
      "Email, \n",
      "Website URL, \n",
      "Date, \n",
      "Number, \n",
      "Credit \n",
      "Card Number, \n",
      "Mobile Phone Number: Em\n",
      "Please input the data!!pp\n",
      "choose from the list above! \n"
     ]
    }
   ],
   "source": [
    "def email_checker(my_input):\n",
    "    result = False\n",
    "    if \"@\" in my_input:\n",
    "        if len(my_input.split(\"@\")) == 2:\n",
    "            domain = my_input.split(\"@\")[1]\n",
    "            if domain == \"gmail.com\":\n",
    "                result = True\n",
    "    return result\n",
    "\n",
    "def URL_checker(my_input):\n",
    "    result = False\n",
    "    url_list = my_input.split(\".\")\n",
    "    if url_list[0] == \"www\" and url_list[2] == \"com\":\n",
    "        result = True\n",
    "    return result\n",
    "\n",
    "def date_checker(date):\n",
    "    result = False\n",
    "    date_list = date.split(\"/\")\n",
    "    l31 = [1,3,5,7,8,10,12]\n",
    "    l30 = [4,6,9,11]\n",
    "    feb = 2\n",
    "    if 0 < date_list[2] < 2023:\n",
    "        if date_list[1] in l31:\n",
    "            if 0 < dat_list[0] <= 31:\n",
    "                result = True\n",
    "        elif date_list[1] in l30:\n",
    "            if 0 < date_list[0] <= 30:\n",
    "                result = True\n",
    "        elif date_list[1] == feb:\n",
    "            if 0 < date_list[0] < 29:\n",
    "                result = True\n",
    "    return result\n",
    "\n",
    "def credit_checker(number):\n",
    "    number = number.replace(\" \", \"\")\n",
    "    if len(number) == 16 and number.isnumeric():\n",
    "        return True\n",
    "    return False\n",
    "\n",
    "def number_checker(number):\n",
    "    number = number.replace(\" \", \"\")\n",
    "    if len(number) == 9 and number.startswith(\"0\"):\n",
    "        return True\n",
    "    return False\n",
    "\n",
    "input_dict = {\"Email\": email_checker, \n",
    "              \"Website URL\": URL_checker, \n",
    "              \"Date\": date_checker, \n",
    "              \"Credit Card Number\": credit_checker, \n",
    "              \"Mobile Phone Number\": number_checker}\n",
    "\n",
    "category = input(\"Please choose one of the categories: \\nEmail, \\nWebsite URL, \\nDate, \\nNumber, \\nCredit \\nCard Number, \\nMobile Phone Number: \")\n",
    "my_input = input(\"Please input the data!!\")\n",
    "\n",
    "try:\n",
    "    assert category in input_dict, \"choose from the list above! \"\n",
    "    if category in input_dict.keys():\n",
    "        func = input_dict[category]\n",
    "        print(func(my_input))\n",
    "except Exception as error:\n",
    "    print(error)"
   ]
  },
  {
   "cell_type": "code",
   "execution_count": null,
   "id": "977e248f",
   "metadata": {},
   "outputs": [],
   "source": []
  }
 ],
 "metadata": {
  "kernelspec": {
   "display_name": "Python 3 (ipykernel)",
   "language": "python",
   "name": "python3"
  },
  "language_info": {
   "codemirror_mode": {
    "name": "ipython",
    "version": 3
   },
   "file_extension": ".py",
   "mimetype": "text/x-python",
   "name": "python",
   "nbconvert_exporter": "python",
   "pygments_lexer": "ipython3",
   "version": "3.9.13"
  }
 },
 "nbformat": 4,
 "nbformat_minor": 5
}

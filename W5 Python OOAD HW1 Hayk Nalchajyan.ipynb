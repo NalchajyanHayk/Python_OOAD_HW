{
 "cells": [
  {
   "cell_type": "markdown",
   "id": "6b9c1c75",
   "metadata": {},
   "source": [
    "Write a Python class named Student that encapsulates student information such as name, age, and an attribute student_id__. \n",
    "\n",
    "Implement methods to set and get the student’s name, age, and student ID. Ensure that the student ID is a private attribute and cannot be accessed directly from outside the class.\n",
    "\n",
    "Create the Student class with the necessary attributes and methods.\n",
    "\n",
    "Implement methods to set and get the student’s name and age.\n",
    "\n",
    "Demonstrate encapsulation by attempting to access the student_id__ attribute from outside the class."
   ]
  },
  {
   "cell_type": "code",
   "execution_count": 38,
   "id": "2176c86e",
   "metadata": {},
   "outputs": [],
   "source": [
    "class Student:\n",
    "    def __init__(self, name:str, age:int, student_id):\n",
    "        self.name = name\n",
    "        self.age = age\n",
    "        self.__student_id = student_id\n",
    "        \n",
    "    def get_name(self):\n",
    "        return self.name\n",
    "    \n",
    "    def set_name(self, new_name):\n",
    "        self.name = new_name\n",
    "        print(f\"The new name of the student is {self.name}!\")\n",
    "        \n",
    "    def get_age(self):\n",
    "        return self.age\n",
    "    \n",
    "    def set_age(self, new_age):\n",
    "        self.age = new_age\n",
    "        print(f\"The new age of the student is {self.age}\")\n",
    "        \n",
    "    def get_student_id(self):\n",
    "        print(\"No access to private argument!!\")\n",
    "            \n",
    "    def set_student_id(self, new_id):\n",
    "        print('No chance to change the ID!')"
   ]
  },
  {
   "cell_type": "code",
   "execution_count": 39,
   "id": "2506e3f4",
   "metadata": {},
   "outputs": [],
   "source": [
    "James = Student(\"James\", 15, 1828)"
   ]
  },
  {
   "cell_type": "code",
   "execution_count": 40,
   "id": "8ef1a9d5",
   "metadata": {},
   "outputs": [
    {
     "data": {
      "text/plain": [
       "15"
      ]
     },
     "execution_count": 40,
     "metadata": {},
     "output_type": "execute_result"
    }
   ],
   "source": [
    "James.get_age()"
   ]
  },
  {
   "cell_type": "code",
   "execution_count": 41,
   "id": "7cf0aa36",
   "metadata": {},
   "outputs": [
    {
     "name": "stdout",
     "output_type": "stream",
     "text": [
      "The new age of the student is 19\n"
     ]
    }
   ],
   "source": [
    "James.set_age(19)"
   ]
  },
  {
   "cell_type": "code",
   "execution_count": 42,
   "id": "fd0407f5",
   "metadata": {},
   "outputs": [
    {
     "data": {
      "text/plain": [
       "'James'"
      ]
     },
     "execution_count": 42,
     "metadata": {},
     "output_type": "execute_result"
    }
   ],
   "source": [
    "James.get_name()"
   ]
  },
  {
   "cell_type": "code",
   "execution_count": 43,
   "id": "ad6d2c5c",
   "metadata": {},
   "outputs": [
    {
     "name": "stdout",
     "output_type": "stream",
     "text": [
      "The new name of the student is Paul!\n"
     ]
    }
   ],
   "source": [
    "James.set_name(\"Paul\")"
   ]
  },
  {
   "cell_type": "code",
   "execution_count": 44,
   "id": "94b8bd11",
   "metadata": {},
   "outputs": [
    {
     "name": "stdout",
     "output_type": "stream",
     "text": [
      "No access to private argument!!\n"
     ]
    }
   ],
   "source": [
    "James.get_student_id()"
   ]
  },
  {
   "cell_type": "code",
   "execution_count": 45,
   "id": "bdc1cf06",
   "metadata": {},
   "outputs": [
    {
     "name": "stdout",
     "output_type": "stream",
     "text": [
      "No chance to change the ID!\n"
     ]
    }
   ],
   "source": [
    "James.set_student_id(198291)"
   ]
  },
  {
   "cell_type": "markdown",
   "id": "ff32376e",
   "metadata": {},
   "source": [
    "Design a Python class named Car that represents a car. Create a class attribute total_cars to keep track of the total number of cars instantiated. Implement an __init__ method to initialize the car’s attributes such as make, model, and year. \n",
    "\n",
    "Include methods to display car information and update the total count of cars.\n",
    "\n",
    "Create the Car class with the class attribute total_cars initialized to 0.\n",
    "\n",
    "Implement the __init__ method to initialize the car’s attributes and increment total_cars.\n",
    "\n",
    "Write a method to display the car’s make, model, and year (__str__).\n",
    "\n",
    "Develop a method to retrieve and display the total count of cars instantiated."
   ]
  },
  {
   "cell_type": "code",
   "execution_count": 75,
   "id": "28a735ad",
   "metadata": {},
   "outputs": [],
   "source": [
    "class Car:\n",
    "    total_cars = 0\n",
    "    \n",
    "    def __init__(self, make:str, model:str, year:int):\n",
    "        global total_cars\n",
    "        Car.total_cars += 1\n",
    "        self.make = make\n",
    "        self.model = model\n",
    "        self.year = year\n",
    "        \n",
    "    def __str__(self):\n",
    "        print(f\"This is a {self.make} {self.model} produced in {self.year}.\")\n",
    "        \n",
    "    def counter(self):\n",
    "        print(f\"In this moment are created {Car.total_cars} cars.\")"
   ]
  },
  {
   "cell_type": "code",
   "execution_count": 76,
   "id": "70fa3e7e",
   "metadata": {},
   "outputs": [],
   "source": [
    "car1 = Car(\"BMW\", \"X5\", 2022)"
   ]
  },
  {
   "cell_type": "code",
   "execution_count": 77,
   "id": "1779f802",
   "metadata": {},
   "outputs": [
    {
     "name": "stdout",
     "output_type": "stream",
     "text": [
      "This is a BMW X5 produced in 2022.\n"
     ]
    }
   ],
   "source": [
    "car1.__str__()"
   ]
  },
  {
   "cell_type": "code",
   "execution_count": 78,
   "id": "422bfec6",
   "metadata": {},
   "outputs": [
    {
     "name": "stdout",
     "output_type": "stream",
     "text": [
      "In this moment are created 1 cars.\n"
     ]
    }
   ],
   "source": [
    "car1.counter()"
   ]
  },
  {
   "cell_type": "code",
   "execution_count": 79,
   "id": "3608b9fb",
   "metadata": {},
   "outputs": [],
   "source": [
    "car2 = Car(\"Lexus\", \"RX\", 2021)"
   ]
  },
  {
   "cell_type": "code",
   "execution_count": 80,
   "id": "44e28236",
   "metadata": {},
   "outputs": [
    {
     "name": "stdout",
     "output_type": "stream",
     "text": [
      "This is a Lexus RX produced in 2021.\n"
     ]
    }
   ],
   "source": [
    "car2.__str__()"
   ]
  },
  {
   "cell_type": "code",
   "execution_count": 81,
   "id": "ce9e0985",
   "metadata": {},
   "outputs": [
    {
     "name": "stdout",
     "output_type": "stream",
     "text": [
      "In this moment are created 2 cars.\n"
     ]
    }
   ],
   "source": [
    "car2.counter()"
   ]
  },
  {
   "cell_type": "code",
   "execution_count": null,
   "id": "c5abd182",
   "metadata": {},
   "outputs": [],
   "source": []
  }
 ],
 "metadata": {
  "kernelspec": {
   "display_name": "Python 3 (ipykernel)",
   "language": "python",
   "name": "python3"
  },
  "language_info": {
   "codemirror_mode": {
    "name": "ipython",
    "version": 3
   },
   "file_extension": ".py",
   "mimetype": "text/x-python",
   "name": "python",
   "nbconvert_exporter": "python",
   "pygments_lexer": "ipython3",
   "version": "3.9.13"
  }
 },
 "nbformat": 4,
 "nbformat_minor": 5
}

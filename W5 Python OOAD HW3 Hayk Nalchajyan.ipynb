{
 "cells": [
  {
   "cell_type": "markdown",
   "id": "b0ac96d3",
   "metadata": {},
   "source": [
    "# W5 Python OOAD HW3 Hayk Nalchajyan"
   ]
  },
  {
   "cell_type": "markdown",
   "id": "2e8dc288",
   "metadata": {},
   "source": [
    "Write a program that defines a simple Vertex class(a point on the x-y plane) having two integer components for the x and y values. Your program should generate 5 random vertices each having integer values in the range of [-100,100], and write them to the terminal. To generate a random number, use the random library function."
   ]
  },
  {
   "cell_type": "code",
   "execution_count": 36,
   "id": "67c597ae",
   "metadata": {},
   "outputs": [
    {
     "name": "stdout",
     "output_type": "stream",
     "text": [
      " Here is the vertex with the coordinates x: -31, y: -80! \n",
      " Here is the vertex with the coordinates x: -1, y: 2! \n",
      " Here is the vertex with the coordinates x: -18, y: 41! \n",
      " Here is the vertex with the coordinates x: 50, y: -61! \n",
      " Here is the vertex with the coordinates x: 18, y: -10! \n"
     ]
    }
   ],
   "source": [
    "import random\n",
    "\n",
    "class Vertex:\n",
    "    def __init__(self, x, y):\n",
    "        self.x = x\n",
    "        self.y = y\n",
    "     \n",
    "    def __str__(self):\n",
    "        return f\" Here is the vertex with the coordinates x: {self.x}, y: {self.y}! \"\n",
    "\n",
    "        \n",
    "for _ in range(5):\n",
    "    x = Vertex(random.randint(-101, 101), random.randint(-101, 101))\n",
    "    print(x)"
   ]
  },
  {
   "cell_type": "markdown",
   "id": "1819b475",
   "metadata": {},
   "source": [
    "Create a Python class called SerialNumberedObject that represents objects with serial numbers. Each object created from this class should have a unique serial number. The serial number should start from 1 for the first object created, incrementing by 1 for each subsequent object.\n",
    "\n",
    "Constructor: Implement a constructor (__init__ method) that is executed whenever an object is created from the class.\n",
    "\n",
    "Inside the constructor:\n",
    "\n",
    "Increment the count variable by 1 to indicate the creation of a new object.\n",
    "\n",
    "Assign the current value of count as the serial number for the object.\n",
    "\n",
    "Implement a member function named get_serial_number within the class. This function should return the serial number of the object it is called on.\n",
    "\n",
    "Write a main() function where you:\n",
    "\n",
    "Create three objects from the SerialNumberedObject class\n",
    "\n",
    "Iterate through these objects and use the get_serial_number method to retrieve their respective serial numbers.\n",
    "\n",
    "Print out a message for each object in the format: “I am object number X,” where X is the serial number of the object."
   ]
  },
  {
   "cell_type": "code",
   "execution_count": 37,
   "id": "2463133b",
   "metadata": {},
   "outputs": [
    {
     "name": "stdout",
     "output_type": "stream",
     "text": [
      "I am object number 1,” where 1 is the serial number of the object\n",
      "1\n",
      "I am object number 2,” where 2 is the serial number of the object\n",
      "2\n",
      "I am object number 3,” where 3 is the serial number of the object\n",
      "3\n"
     ]
    }
   ],
   "source": [
    "class SerialNumberedObject:\n",
    "    serial_number = 0\n",
    "    \n",
    "    def __init__(self):\n",
    "        SerialNumberedObject.serial_number += 1\n",
    "        self.number = SerialNumberedObject.serial_number\n",
    "        \n",
    "    def get_serial_number(self):\n",
    "        return self.number\n",
    "    \n",
    "    def __str__(self):\n",
    "        return f\"I am object number {self.number},” where {self.number} is the serial number of the object\"\n",
    "    \n",
    "def main():\n",
    "    for _ in range(3):\n",
    "        obj = SerialNumberedObject()\n",
    "        print(obj)\n",
    "        print(obj.get_serial_number())\n",
    "        \n",
    "if __name__ == \"__main__\":\n",
    "    main()"
   ]
  },
  {
   "cell_type": "markdown",
   "id": "cb680606",
   "metadata": {},
   "source": [
    "Your task is to design a Python class named Employee that facilitates the management of employee data. Each employee’s record will include a name and an employee ID, and the class should provide methods to both set and display this data. Begin by defining the Employee class with the following components:\n",
    "\n",
    "Class-Level Variable: Initialize a class-level variable called employee_id with an initial value of 1. This variable will help assign unique employee IDs.\n",
    "\n",
    "Constructor (__init__ Method): Create the constructor, which takes the employee’s name as a parameter. Inside the constructor set the instance variable name to the provided name, assign the instance variable emp_id to the current value of the class-level variable employee_id, and then increment employee_id to ensure a unique ID for each employee.\n",
    "\n",
    "Member Function (setdata Method): Implement a method named setdata that allows the user to input the employee’s name. After getting the name, increment the employee_id to prepare for the next employee.\n",
    "\n",
    "Member Function (putdata Method): Create another method named putdata to display the employee’s data. This method should print the employee’s name and display the assigned employee ID."
   ]
  },
  {
   "cell_type": "code",
   "execution_count": 46,
   "id": "93deb4ae",
   "metadata": {},
   "outputs": [],
   "source": [
    "class Employee:\n",
    "    employee_id = 1\n",
    "    def __init__(self, name):\n",
    "        #Employee.employee_id += 1\n",
    "        self.emp_id = Employee.employee_id\n",
    "        self.name = name\n",
    "        \n",
    "    def setdata(self):\n",
    "        Employee.employee_id += 1\n",
    "        self.name = input(\"Insert the name\")\n",
    "        print(\"The name has been changed! \")\n",
    "        \n",
    "    def putdata(self):\n",
    "        print(f\"My name is {self.name}. My ID is {self.emp_id}\")\n",
    "        "
   ]
  },
  {
   "cell_type": "code",
   "execution_count": 47,
   "id": "36a0e053",
   "metadata": {},
   "outputs": [
    {
     "name": "stdout",
     "output_type": "stream",
     "text": [
      "My name is Jimmy. My ID is 1\n"
     ]
    }
   ],
   "source": [
    "emp1 = Employee(\"Jimmy\")\n",
    "emp1.putdata()"
   ]
  },
  {
   "cell_type": "code",
   "execution_count": 48,
   "id": "3555dbe4",
   "metadata": {},
   "outputs": [
    {
     "name": "stdout",
     "output_type": "stream",
     "text": [
      "Insert the nameEdgar\n",
      "The name has been changed! \n"
     ]
    }
   ],
   "source": [
    "emp1.setdata()"
   ]
  },
  {
   "cell_type": "code",
   "execution_count": 50,
   "id": "7dbcae7b",
   "metadata": {},
   "outputs": [
    {
     "name": "stdout",
     "output_type": "stream",
     "text": [
      "My name is Edgar. My ID is 1\n"
     ]
    }
   ],
   "source": [
    "emp1.putdata()"
   ]
  },
  {
   "cell_type": "code",
   "execution_count": 51,
   "id": "b394c172",
   "metadata": {},
   "outputs": [
    {
     "name": "stdout",
     "output_type": "stream",
     "text": [
      "My name is Henry. My ID is 2\n"
     ]
    }
   ],
   "source": [
    "emp2 = Employee(\"Henry\")\n",
    "emp2.putdata()"
   ]
  }
 ],
 "metadata": {
  "kernelspec": {
   "display_name": "Python 3 (ipykernel)",
   "language": "python",
   "name": "python3"
  },
  "language_info": {
   "codemirror_mode": {
    "name": "ipython",
    "version": 3
   },
   "file_extension": ".py",
   "mimetype": "text/x-python",
   "name": "python",
   "nbconvert_exporter": "python",
   "pygments_lexer": "ipython3",
   "version": "3.9.13"
  }
 },
 "nbformat": 4,
 "nbformat_minor": 5
}
